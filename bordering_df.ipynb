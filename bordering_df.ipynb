{
 "cells": [
  {
   "cell_type": "code",
   "execution_count": 47,
   "metadata": {},
   "outputs": [],
   "source": [
    "import requests as rq\n",
    "from bs4 import BeautifulSoup\n",
    "import pandas as pd"
   ]
  },
  {
   "cell_type": "code",
   "execution_count": 122,
   "metadata": {},
   "outputs": [],
   "source": [
    "b=rq.get('https://en.wikipedia.org/wiki/List_of_countries_and_territories_by_land_borders')\n",
    "soup=BeautifulSoup(b.text)\n",
    "x=0\n",
    "border_list=[]\n",
    "for entry in soup.find_all('tr'):\n",
    "    if(x > 1 and x <207 ):\n",
    "        for part in entry.find_all('a'):\n",
    "            curr_entry=[entry.a.text,part.text].sort()\n",
    "            if(part.text != entry.a.text and ']' not in part.text and [entry.a.text,part.text] not in border_list and [part.text,entry.a.text] not in border_list):\n",
    "                if(entry.a.text > part.text):\n",
    "                    border_list.append([part.text,entry.a.text])\n",
    "                else:\n",
    "                    border_list.append([entry.a.text,part.text])\n",
    "    x+=1\n",
    "borders=pd.DataFrame.from_dict(border_list)\n",
    "borders.columns=['Country 1','Country 2']\n",
    "#example: find countries\n",
    "borders=borders[(borders['Country 1'] != \"(plus British overseas territories\") | (borders['Country 2'] != \"and Crown dependencies)\")]\n",
    "borders.to_csv(path_or_buf='C:/Users/mjhig/Disease Simulator/disease_sim/borders.csv')"
   ]
  }
 ],
 "metadata": {
  "interpreter": {
   "hash": "a64d506b9a71f82ae95f5ab283acc0b6e821f23a966b00f5565e53c34a4657fe"
  },
  "kernelspec": {
   "display_name": "Python 3.7.3 64-bit",
   "language": "python",
   "name": "python3"
  },
  "language_info": {
   "codemirror_mode": {
    "name": "ipython",
    "version": 3
   },
   "file_extension": ".py",
   "mimetype": "text/x-python",
   "name": "python",
   "nbconvert_exporter": "python",
   "pygments_lexer": "ipython3",
   "version": "3.7.3"
  },
  "orig_nbformat": 4
 },
 "nbformat": 4,
 "nbformat_minor": 2
}
