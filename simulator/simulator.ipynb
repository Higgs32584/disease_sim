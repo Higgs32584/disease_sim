{
 "cells": [
  {
   "cell_type": "code",
   "execution_count": 5,
   "metadata": {},
   "outputs": [],
   "source": [
    "import pandas as pd"
   ]
  },
  {
   "cell_type": "code",
   "execution_count": 182,
   "metadata": {},
   "outputs": [
    {
     "name": "stdout",
     "output_type": "stream",
     "text": [
      "Country 1                          Laos\n",
      "Country 2    People's Republic of China\n",
      "Name: 1, dtype: object\n"
     ]
    }
   ],
   "source": [
    "population_df=pd.read_csv(\"C:/Users/mjhig/Disease Simulator/disease_sim/CSV files/population.csv\")\n",
    "airports_df=pd.read_csv(\"C:/Users/mjhig/Disease Simulator/disease_sim/CSV files/airports.csv\")\n",
    "borders=pd.read_csv(\"C:/Users/mjhig/Disease Simulator/disease_sim/CSV files/borders.csv\")\n",
    "borders.drop(columns=['Unnamed: 0'],inplace=True)\n",
    "inf=1\n",
    "day=0\n",
    "inf_countries=[]\n",
    "ranum = random.randint(0,len(population_df))\n",
    "inf_countries.append(population_df.loc[ranum]['Country'])\n",
    "inf_countries\n",
    "borders[borders['Country 1'] == 'Bob']\n",
    "# for x in range(400):\n",
    "#     for entry in inf_countries:\n",
    "#         ran_num=random.randint(1,10)\n",
    "#         if(ran_num==1):\n",
    "#             print('nothing')\n",
    "#https://www.maa.org/press/periodicals/loci/joma/the-sir-model-for-spread-of-disease-the-differential-equation-model\n",
    "\n",
    "\n",
    "\n",
    "random_df=borders[(borders['Country 1'] == inf_countries[0]) | (borders['Country 2'] == inf_countries[0])]\n",
    "random_df.reset_index(inplace=True,drop=True)\n",
    "if(len(random_df) > 0):\n",
    "    print(random_df.loc[random.randint(0,len(random_df))])"
   ]
  },
  {
   "cell_type": "code",
   "execution_count": 80,
   "metadata": {},
   "outputs": [
    {
     "name": "stdout",
     "output_type": "stream",
     "text": [
      "96\n",
      "93\n",
      "95\n",
      "96\n",
      "99\n",
      "93\n",
      "94\n",
      "99\n",
      "95\n",
      "97\n",
      "94\n",
      "93\n",
      "100\n",
      "99\n",
      "96\n",
      "100\n",
      "97\n",
      "97\n",
      "94\n",
      "94\n",
      "95\n",
      "95\n",
      "96\n",
      "98\n"
     ]
    }
   ],
   "source": [
    "import random\n",
    "for x in range(365):\n",
    "    num=random.randint(0,100)\n",
    "    if(num > 92):\n",
    "        print(num)"
   ]
  }
 ],
 "metadata": {
  "interpreter": {
   "hash": "a64d506b9a71f82ae95f5ab283acc0b6e821f23a966b00f5565e53c34a4657fe"
  },
  "kernelspec": {
   "display_name": "Python 3.7.3 64-bit",
   "language": "python",
   "name": "python3"
  },
  "language_info": {
   "codemirror_mode": {
    "name": "ipython",
    "version": 3
   },
   "file_extension": ".py",
   "mimetype": "text/x-python",
   "name": "python",
   "nbconvert_exporter": "python",
   "pygments_lexer": "ipython3",
   "version": "3.7.3"
  },
  "orig_nbformat": 4
 },
 "nbformat": 4,
 "nbformat_minor": 2
}
