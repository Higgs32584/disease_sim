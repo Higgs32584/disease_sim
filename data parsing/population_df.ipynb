{
 "cells": [
  {
   "cell_type": "code",
   "execution_count": 1,
   "metadata": {},
   "outputs": [],
   "source": [
    "import requests as rq\n",
    "from bs4 import BeautifulSoup\n",
    "import pandas as pd\n",
    "from collections import Counter"
   ]
  },
  {
   "cell_type": "code",
   "execution_count": 2,
   "metadata": {},
   "outputs": [],
   "source": [
    "pop_obj=rq.get('https://en.wikipedia.org/wiki/List_of_countries_and_dependencies_by_population')\n",
    "new_s=BeautifulSoup(pop_obj.text)\n",
    "x=0\n",
    "country_list=[]\n",
    "for entry in new_s.find_all('tr'):\n",
    "    if(x > 1 and x <230):\n",
    "        #print(\"NAME\",entry.a.text)\n",
    "        y=0\n",
    "        d={}\n",
    "        d['Country']=entry.a.text\n",
    "        for part in entry.find_all('td'):\n",
    "            if(y==1):\n",
    "                d['Region']=part.text\n",
    "            elif(y==2):\n",
    "                d['Population']=part.text.replace(',','')\n",
    "            y+=1\n",
    "        country_list.append(d)\n",
    "    x+=1\n",
    "country_pop=pd.DataFrame(country_list)\n",
    "country_pop.to_csv(path_or_buf='C:/Users/mjhig/Disease Simulator/disease_sim/CSV files/population.csv',columns=['Region','Population','Country'])"
   ]
  },
  {
   "cell_type": "code",
   "execution_count": null,
   "metadata": {},
   "outputs": [],
   "source": []
  }
 ],
 "metadata": {
  "interpreter": {
   "hash": "a64d506b9a71f82ae95f5ab283acc0b6e821f23a966b00f5565e53c34a4657fe"
  },
  "kernelspec": {
   "display_name": "Python 3.7.3 64-bit",
   "language": "python",
   "name": "python3"
  },
  "language_info": {
   "codemirror_mode": {
    "name": "ipython",
    "version": 3
   },
   "file_extension": ".py",
   "mimetype": "text/x-python",
   "name": "python",
   "nbconvert_exporter": "python",
   "pygments_lexer": "ipython3",
   "version": "3.7.3"
  },
  "orig_nbformat": 4
 },
 "nbformat": 4,
 "nbformat_minor": 2
}
