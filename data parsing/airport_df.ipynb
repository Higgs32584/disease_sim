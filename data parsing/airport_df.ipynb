{
 "cells": [
  {
   "cell_type": "code",
   "execution_count": 4,
   "metadata": {},
   "outputs": [],
   "source": [
    "import requests as rq\n",
    "from bs4 import BeautifulSoup\n",
    "import pandas as pd"
   ]
  },
  {
   "cell_type": "code",
   "execution_count": 5,
   "metadata": {},
   "outputs": [],
   "source": [
    "this_stuff=rq.get(\"https://en.wikipedia.org/wiki/List_of_international_airports_by_country\")\n",
    "new_obj=BeautifulSoup(this_stuff.text)\n",
    "big_list=[]\n",
    "parameters=[]\n",
    "x=0\n",
    "Region=['Asia','East Asia','Nordic region', 'Americas', 'Africa','United Kingdom','Nordic Region','Eastern Europe', 'Europe','Oceania','Eurasia',\"Passenger Roles (2011–2020)\",'Caribbean','Central America','Central Asia','South Asia','Southeast Asia','Southwest Asia and the Middle East','Western Europe','Central Europe','[edit]','Southern Europe','North America','South America','[']\n",
    "list_of_countries={}\n",
    "for entry in new_obj.find_all('span'):\n",
    "    if(entry.text=='See also'):\n",
    "        break\n",
    "    if(x%2==0 and x>3 and entry.text not in Region):\n",
    "        list_of_countries[entry.text]=1\n",
    "    x+=1"
   ]
  },
  {
   "cell_type": "code",
   "execution_count": 6,
   "metadata": {},
   "outputs": [],
   "source": [
    "m=0\n",
    "country_l=list(list_of_countries.keys())\n",
    "big_list=[]\n",
    "for entry in new_obj.find_all('tr'):\n",
    "    new_entry = [str(part) for part in entry.text.splitlines() if(part != \"\")]\n",
    "    d={}\n",
    "    if('Location' in new_entry):\n",
    "        parameters=new_entry\n",
    "        m+=1\n",
    "    elif('Location' not in new_entry[0]):\n",
    "        if(len(new_entry) == len(parameters)):\n",
    "            d['Country']= country_l[m]\n",
    "            for x in range(len(parameters)):\n",
    "                if(parameters[x]== 'IATA' or parameters[x]=='IATA Code'):\n",
    "                    d['IATA Code']=new_entry[x]\n",
    "                elif(parameters[x] == '2016 Passengers' or parameters[x] == '2015 Passengers' or parameters[x] == '2014/2015 Passengers'):\n",
    "                    d['Annual Passengers']= new_entry[x].replace(',','')\n",
    "                elif(parameters[x] == \"2015 Daily Avg.\"):\n",
    "                    d['Annual Passengers']= str(int(new_entry[x].replace(',','').replace('>',''))*365)\n",
    "                else:\n",
    "                    d[parameters[x]]=new_entry[x]\n",
    "            big_list.append(d) "
   ]
  },
  {
   "cell_type": "code",
   "execution_count": 26,
   "metadata": {},
   "outputs": [],
   "source": [
    "airport_df=pd.DataFrame(big_list)\n",
    "airport_df.drop(columns=['ICAO','Average','2018 Passengers','Daily Avg.','2014 Passengers','2015 Avg.'],inplace=True)\n",
    "airport_df=airport_df[(airport_df['Passenger Role'].notna()) | (airport_df['Annual Passengers'].notna()) ]\n",
    "airport_df.set_index(airport_df['IATA Code'],inplace=True)\n",
    "airport_df.drop(columns=['IATA Code'],inplace=True)\n",
    "airport_df.to_csv(path_or_buf='C:/Users/mjhig/Disease Simulator/disease_sim/airports.csv')"
   ]
  }
 ],
 "metadata": {
  "interpreter": {
   "hash": "2be5faf79681da6f2a61fdfdd5405d65d042280f7fba6178067603e3a2925119"
  },
  "kernelspec": {
   "display_name": "Python 3.10.0 64-bit",
   "language": "python",
   "name": "python3"
  },
  "language_info": {
   "codemirror_mode": {
    "name": "ipython",
    "version": 3
   },
   "file_extension": ".py",
   "mimetype": "text/x-python",
   "name": "python",
   "nbconvert_exporter": "python",
   "pygments_lexer": "ipython3",
   "version": "3.7.3"
  },
  "orig_nbformat": 4
 },
 "nbformat": 4,
 "nbformat_minor": 2
}
